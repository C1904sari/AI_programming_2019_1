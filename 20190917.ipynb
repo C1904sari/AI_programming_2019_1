{
  "cells": [
    {
      "metadata": {},
      "cell_type": "markdown",
      "source": "## エラー処理\n\nPythonにおけるエラー\n+ Syntax Error （構文エラー）\n+ Exception　（例外）\n"
    },
    {
      "metadata": {},
      "cell_type": "markdown",
      "source": "### Syntax Error\n\nSyntax Errorは、Pythonの構文ルールに違反したコードに対するエラーである。\n\n例えば、if文やwhile文において、ブロックを作るために記述する「:」を忘れると、「SyntaxError: invalid syntax」になる。\n"
    },
    {
      "metadata": {
        "trusted": true
      },
      "cell_type": "code",
      "source": "if True\n    print('error!')",
      "execution_count": 1,
      "outputs": [
        {
          "output_type": "error",
          "ename": "SyntaxError",
          "evalue": "invalid syntax (<ipython-input-1-f06f2b7af342>, line 1)",
          "traceback": [
            "\u001b[0;36m  File \u001b[0;32m\"<ipython-input-1-f06f2b7af342>\"\u001b[0;36m, line \u001b[0;32m1\u001b[0m\n\u001b[0;31m    if True\u001b[0m\n\u001b[0m           ^\u001b[0m\n\u001b[0;31mSyntaxError\u001b[0m\u001b[0;31m:\u001b[0m invalid syntax\n"
          ]
        }
      ]
    },
    {
      "metadata": {
        "trusted": true
      },
      "cell_type": "code",
      "source": "if True:\n    print('Error!')",
      "execution_count": 3,
      "outputs": [
        {
          "output_type": "stream",
          "text": "Error!\n",
          "name": "stdout"
        }
      ]
    },
    {
      "metadata": {
        "collapsed": true
      },
      "cell_type": "markdown",
      "source": "### 例外\n\n例外には、数値を0で割った時に発生する「ZeroDivisionError」や、変数や関数などのオブジェクトが見つからないときに発生する「NameError」や、データ型が異なるときに発生する「TypeError」などがある。"
    },
    {
      "metadata": {
        "trusted": true
      },
      "cell_type": "code",
      "source": "10 / 0",
      "execution_count": 2,
      "outputs": [
        {
          "output_type": "error",
          "ename": "ZeroDivisionError",
          "evalue": "division by zero",
          "traceback": [
            "\u001b[0;31m---------------------------------------------------------------------------\u001b[0m",
            "\u001b[0;31mZeroDivisionError\u001b[0m                         Traceback (most recent call last)",
            "\u001b[0;32m<ipython-input-2-cd759d3fcf39>\u001b[0m in \u001b[0;36m<module>\u001b[0;34m\u001b[0m\n\u001b[0;32m----> 1\u001b[0;31m \u001b[0;36m10\u001b[0m \u001b[0;34m/\u001b[0m \u001b[0;36m0\u001b[0m\u001b[0;34m\u001b[0m\u001b[0m\n\u001b[0m",
            "\u001b[0;31mZeroDivisionError\u001b[0m: division by zero"
          ]
        }
      ]
    },
    {
      "metadata": {
        "trusted": true,
        "scrolled": true
      },
      "cell_type": "code",
      "source": "print(No_Name)",
      "execution_count": 3,
      "outputs": [
        {
          "output_type": "error",
          "ename": "NameError",
          "evalue": "name 'No_Name' is not defined",
          "traceback": [
            "\u001b[0;31m---------------------------------------------------------------------------\u001b[0m",
            "\u001b[0;31mNameError\u001b[0m                                 Traceback (most recent call last)",
            "\u001b[0;32m<ipython-input-3-1f00c5e7c40f>\u001b[0m in \u001b[0;36m<module>\u001b[0;34m\u001b[0m\n\u001b[0;32m----> 1\u001b[0;31m \u001b[0mprint\u001b[0m\u001b[0;34m(\u001b[0m\u001b[0mNo_Name\u001b[0m\u001b[0;34m)\u001b[0m\u001b[0;34m\u001b[0m\u001b[0m\n\u001b[0m",
            "\u001b[0;31mNameError\u001b[0m: name 'No_Name' is not defined"
          ]
        }
      ]
    },
    {
      "metadata": {
        "trusted": true
      },
      "cell_type": "code",
      "source": "3 + 'X'",
      "execution_count": 6,
      "outputs": [
        {
          "output_type": "error",
          "ename": "TypeError",
          "evalue": "unsupported operand type(s) for +: 'int' and 'str'",
          "traceback": [
            "\u001b[0;31m---------------------------------------------------------------------------\u001b[0m",
            "\u001b[0;31mTypeError\u001b[0m                                 Traceback (most recent call last)",
            "\u001b[0;32m<ipython-input-6-b3351544fdc7>\u001b[0m in \u001b[0;36m<module>\u001b[0;34m\u001b[0m\n\u001b[0;32m----> 1\u001b[0;31m \u001b[0;36m3\u001b[0m \u001b[0;34m+\u001b[0m \u001b[0;34m'X'\u001b[0m\u001b[0;34m\u001b[0m\u001b[0m\n\u001b[0m",
            "\u001b[0;31mTypeError\u001b[0m: unsupported operand type(s) for +: 'int' and 'str'"
          ]
        }
      ]
    },
    {
      "metadata": {},
      "cell_type": "markdown",
      "source": "このような例外をそのまま放置すると、プログラムは強制終了する。\n\nしかし、例外処理を行うことにより、強制終了を回避することができる。\n\n例外処理は、try Clauseとexception Clauseとにより構成される。try Clauseに例外が発生しそうなコードを記述し、例外が発生すると、例外が発生したコードの次のコードを実行せずに、except Clauseへジャンプする。Exception Clauseには、例外が発生した場合の処理を記述する。"
    },
    {
      "metadata": {
        "trusted": true
      },
      "cell_type": "code",
      "source": "L = [1, 2, 3, 4, 0, 5, 6, 7]\nx = 100\nfor i in L:\n    try:\n        x /= i   # x = x / i #\n        print(i, x)\n    except:\n        print(i, 'ZeroDivide')\n        break\nprint('*** completed ***')        ",
      "execution_count": 4,
      "outputs": [
        {
          "output_type": "stream",
          "text": "1 100.0\n2 50.0\n3 16.666666666666668\n4 4.166666666666667\n0 ZeroDivide\n*** completed ***\n",
          "name": "stdout"
        }
      ]
    },
    {
      "metadata": {},
      "cell_type": "markdown",
      "source": "### listに類似したデータ構造tuple型\n\ntuple型は、list型に類似したデータ構造であるが、要素の値を変更できない。tuple型が存在する理由は、プログラムには、変更したくないデータを扱うことがある、ということである。"
    },
    {
      "metadata": {
        "trusted": true
      },
      "cell_type": "code",
      "source": "list_a = [1, 2, 3, 4, 5]\nprint(type(list_a), list_a)\ntuple_a = (1, 2, 3, 4, 5)\nprint(type(tuple_a), tuple_a)",
      "execution_count": 5,
      "outputs": [
        {
          "output_type": "stream",
          "text": "<class 'list'> [1, 2, 3, 4, 5]\n<class 'tuple'> (1, 2, 3, 4, 5)\n",
          "name": "stdout"
        }
      ]
    },
    {
      "metadata": {
        "trusted": true
      },
      "cell_type": "code",
      "source": "list_a.insert(3, 6)\nlist_a",
      "execution_count": 6,
      "outputs": [
        {
          "output_type": "execute_result",
          "execution_count": 6,
          "data": {
            "text/plain": "[1, 2, 3, 6, 4, 5]"
          },
          "metadata": {}
        }
      ]
    },
    {
      "metadata": {
        "trusted": true
      },
      "cell_type": "code",
      "source": "tuple_a.append(6)",
      "execution_count": 7,
      "outputs": [
        {
          "output_type": "error",
          "ename": "AttributeError",
          "evalue": "'tuple' object has no attribute 'append'",
          "traceback": [
            "\u001b[0;31m---------------------------------------------------------------------------\u001b[0m",
            "\u001b[0;31mAttributeError\u001b[0m                            Traceback (most recent call last)",
            "\u001b[0;32m<ipython-input-7-4f94dd2b383d>\u001b[0m in \u001b[0;36m<module>\u001b[0;34m\u001b[0m\n\u001b[0;32m----> 1\u001b[0;31m \u001b[0mtuple_a\u001b[0m\u001b[0;34m.\u001b[0m\u001b[0mappend\u001b[0m\u001b[0;34m(\u001b[0m\u001b[0;36m6\u001b[0m\u001b[0;34m)\u001b[0m\u001b[0;34m\u001b[0m\u001b[0m\n\u001b[0m",
            "\u001b[0;31mAttributeError\u001b[0m: 'tuple' object has no attribute 'append'"
          ]
        }
      ]
    },
    {
      "metadata": {},
      "cell_type": "markdown",
      "source": "### disctionary型\n\n\n"
    },
    {
      "metadata": {
        "trusted": true
      },
      "cell_type": "code",
      "source": "exam_score = {'aaa': 100, 'bbb': 85, 'ccc': 49}\nprint(exam_score)",
      "execution_count": 8,
      "outputs": [
        {
          "output_type": "stream",
          "text": "{'aaa': 100, 'bbb': 85, 'ccc': 49}\n",
          "name": "stdout"
        }
      ]
    },
    {
      "metadata": {
        "trusted": true
      },
      "cell_type": "code",
      "source": "exam_score['aaa'] = 'pass'\nexam_score['bbb'] = 'pass'\n",
      "execution_count": 9,
      "outputs": []
    },
    {
      "metadata": {
        "trusted": true
      },
      "cell_type": "code",
      "source": "exam_score",
      "execution_count": 10,
      "outputs": [
        {
          "output_type": "execute_result",
          "execution_count": 10,
          "data": {
            "text/plain": "{'aaa': 'pass', 'bbb': 'pass', 'ccc': 49}"
          },
          "metadata": {}
        }
      ]
    },
    {
      "metadata": {
        "trusted": true
      },
      "cell_type": "code",
      "source": "",
      "execution_count": null,
      "outputs": []
    }
  ],
  "metadata": {
    "kernelspec": {
      "name": "python36",
      "display_name": "Python 3.6",
      "language": "python"
    },
    "language_info": {
      "mimetype": "text/x-python",
      "nbconvert_exporter": "python",
      "name": "python",
      "pygments_lexer": "ipython3",
      "version": "3.6.6",
      "file_extension": ".py",
      "codemirror_mode": {
        "version": 3,
        "name": "ipython"
      }
    }
  },
  "nbformat": 4,
  "nbformat_minor": 2
}