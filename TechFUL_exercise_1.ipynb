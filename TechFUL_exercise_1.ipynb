{
  "cells": [
    {
      "metadata": {
        "collapsed": true
      },
      "cell_type": "markdown",
      "source": "# TechFULによるPythonプログラミング問題解説\n\n## AIプログラミングI,II（2019)演習\n\n### 練習問題\n"
    },
    {
      "metadata": {},
      "cell_type": "markdown",
      "source": "#### 数値を当てろ\n\n<b>\n問題\n\n0～100の中から1つ整数が入力されます。 その整数を読み込み、そのまま出力して下さい。\n\n</b>"
    },
    {
      "metadata": {
        "trusted": true
      },
      "cell_type": "code",
      "source": "i = int(input())\nprint(i)",
      "execution_count": 30,
      "outputs": [
        {
          "output_type": "stream",
          "name": "stdout",
          "text": "5\n5\n"
        }
      ]
    },
    {
      "metadata": {},
      "cell_type": "markdown",
      "source": "#### 問題文に「0～100の中から１つ整数」という指定があるので、入力データをチェックする必要はない。\n\n#### もし、問題文が「入力されたデータを読み込み、そのデータが整数であれば、その整数の値を表示し、そのデータが整数でなければ、errorと表示しなさい。」となっていた場合、入力されたデータが整数であるかどうかを判定しなければならない。各自この問題に適切なコードを作成しなさい。\n\n\n"
    },
    {
      "metadata": {
        "trusted": true
      },
      "cell_type": "code",
      "source": "x = input()\ntry:\n    i = int(x)\n    print(i)\nexcept:\n    print(\"error\")",
      "execution_count": 31,
      "outputs": [
        {
          "output_type": "stream",
          "name": "stdout",
          "text": "a\nerror\n"
        }
      ]
    },
    {
      "metadata": {},
      "cell_type": "markdown",
      "source": "## プログラミングコンテストの仕組み\n\n### 採点箇所は、<font color=\"Red\">①構文の正しさ、②標準出力が問題に指定された形式に従っていること、</font>の2点である。\n### 高い評価を得るためには、<font color=\"Red\">①構文(syntax)エラーがなくなるまでのコンパイル（構文チェック）の回数が少ないこと、②予めシステムが用意した入力データ（ユーザからは見えない）に対して、正しい出力を表示できるまでのコード実行の回数が少ないこと、</font>の２つが重要である。\n### 入力データは、標準入力から与えられるのでinput()でデータを読み込む。\n#### Pythonのinput()は、入力データを文字列形式で読み込む関数であるため、入力データを数値として取り扱うときには、整数型(int)や実数型(float)などへの変換が必要となることにも要注意。\n### 標準出力への出力形式は、「問題文に指定された通り」かどうかで正誤が判定されるので、問題文に記載された出力形式を注意深く読むこと。\n"
    },
    {
      "metadata": {},
      "cell_type": "markdown",
      "source": "#### 年間秒数\n\n<b>\n問題\n\n一年間の時間をすべて秒に換算したときの、秒数が知りたいです。\n\n365×24×60×60の計算を行うことで、一年間の秒数を知ることができます。\n\n標準出力に、365×24×60×60の計算結果を一行で出力してください。\n\n但し、一年は365日であるものとし、うるう年などは考えないものとします。\n\n\n入力について\n\n標準入力\nなし\n標準入力からは何も入力されない。\n\n標準出力\n365×24×60×60の実行結果\n\n</b>"
    },
    {
      "metadata": {
        "trusted": true
      },
      "cell_type": "code",
      "source": "print(365*24*60*60)",
      "execution_count": 7,
      "outputs": [
        {
          "output_type": "stream",
          "text": "31536000\n",
          "name": "stdout"
        }
      ]
    },
    {
      "metadata": {},
      "cell_type": "markdown",
      "source": "### AIプログラミングI,II（2019)演習問題１"
    },
    {
      "metadata": {},
      "cell_type": "markdown",
      "source": "## 数値と文字列\n\n<b>\n    問題\n\nPythonのprint関数を使って数値と文字列を出力するプログラムを作る問題です。 \n\n標準入力から２つの数字iとjが入力されます。 \n\n以下の4行を出力してください。 \n\n出力は、例に記載された「標準入力」と「期待する出力」のフォーマットに従ってください。\n\n特に、スペースの有無に気を付けてください。\n\n\n1行目：　 \n\ni の値 \n\n2行目：　 \n\nj の値 \n\n3行目：　 \n\ni+jの値 \n\n4行目：　\n\n文字列としてのi+j\n\n\n### 入力される値\n\ni\n\nj\n\n\n### 出力する値\n\ni\n\nj\n\ni+j\n\n文字列'i+j'\n\n\n### 制約\n\ni,j : 整数\n\n\n### 例1\n\n### 標準入力\n\n3\n\n4\n\n### 期待する出力\n\n3\n\n4\n\n7\n\n3 + 4\n\n\n### 例2\n\n### 標準入力\n\n-1\n\n16\n\n### 期待する出力\n\n-1\n\n16\n\n15\n\n-1 + 16\n\n\n### 例3\n\n### 標準入力\n\n1234\n\n0\n\n### 期待する出力\n\n1234\n\n0\n\n1234\n\n1234 + 0\n\n</b>"
    },
    {
      "metadata": {
        "trusted": true
      },
      "cell_type": "code",
      "source": "i = int(input())\nj = int(input())\nprint(i)\nprint(j)\nprint(i+j)\nprint(i, '+', j)",
      "execution_count": 32,
      "outputs": [
        {
          "output_type": "stream",
          "name": "stdout",
          "text": "\n"
        },
        {
          "output_type": "error",
          "ename": "ValueError",
          "evalue": "invalid literal for int() with base 10: ''",
          "traceback": [
            "\u001b[0;31m---------------------------------------------------------------------------\u001b[0m",
            "\u001b[0;31mValueError\u001b[0m                                Traceback (most recent call last)",
            "\u001b[0;32m<ipython-input-32-b7a642ec302a>\u001b[0m in \u001b[0;36m<module>\u001b[0;34m\u001b[0m\n\u001b[0;32m----> 1\u001b[0;31m \u001b[0mi\u001b[0m \u001b[0;34m=\u001b[0m \u001b[0mint\u001b[0m\u001b[0;34m(\u001b[0m\u001b[0minput\u001b[0m\u001b[0;34m(\u001b[0m\u001b[0;34m)\u001b[0m\u001b[0;34m)\u001b[0m\u001b[0;34m\u001b[0m\u001b[0m\n\u001b[0m\u001b[1;32m      2\u001b[0m \u001b[0mj\u001b[0m \u001b[0;34m=\u001b[0m \u001b[0mint\u001b[0m\u001b[0;34m(\u001b[0m\u001b[0minput\u001b[0m\u001b[0;34m(\u001b[0m\u001b[0;34m)\u001b[0m\u001b[0;34m)\u001b[0m\u001b[0;34m\u001b[0m\u001b[0m\n\u001b[1;32m      3\u001b[0m \u001b[0mprint\u001b[0m\u001b[0;34m(\u001b[0m\u001b[0mi\u001b[0m\u001b[0;34m)\u001b[0m\u001b[0;34m\u001b[0m\u001b[0m\n\u001b[1;32m      4\u001b[0m \u001b[0mprint\u001b[0m\u001b[0;34m(\u001b[0m\u001b[0mj\u001b[0m\u001b[0;34m)\u001b[0m\u001b[0;34m\u001b[0m\u001b[0m\n\u001b[1;32m      5\u001b[0m \u001b[0mprint\u001b[0m\u001b[0;34m(\u001b[0m\u001b[0mi\u001b[0m\u001b[0;34m+\u001b[0m\u001b[0mj\u001b[0m\u001b[0;34m)\u001b[0m\u001b[0;34m\u001b[0m\u001b[0m\n",
            "\u001b[0;31mValueError\u001b[0m: invalid literal for int() with base 10: ''"
          ]
        }
      ]
    },
    {
      "metadata": {},
      "cell_type": "markdown",
      "source": "## Collatz 問題\n\n<b>\n\n### 問題\n\n任意の整数に関して、その値が偶数の場合は2で割り、奇数の場合は3をかけて1を足すという操作を繰り返すと必ず1になることが知られている。\n\nwhileとifを用いて任意の正整数を入力して、この過程を出力しなさい。０又は負の整数が入力される場合を考慮する必要はありません。\n\n出力の仕方は、例をよく見て理解しなさい。\n\n\n### 入力される値\n\ni\n\n\n### 出力する値\n\ni->・・・・・・->1\n\n\n### 制約\n\n1≦i: 整数\n\n\n### 例１\n\n### 標準入力\n\n1\n\n### 期待する出力\n\n1\n\n\n### 例２\n\n### 標準入力\n\n15\n\n### 期待する出力\n\n15->46->23->70->35->106->53->160->80->40->20->10->5->16->8->4->2->1\n\n\n### 例３\n\n### 標準入力\n\n16\n\n### 期待する出力\n\n16->8->4->2->1\n\n\n### 例４\n\n### 標準入力\n\n10\n\n### 期待する出力\n\n10->5->16->8->4->2->1\n\n</b>\n\n"
    },
    {
      "metadata": {},
      "cell_type": "markdown",
      "source": "## 解説\n### print文で標準出力へ出力する際に、改行させないためにどうすればよいか？\n### print文で複数のデータを出力する際に、データとデータとの間にスペースを入れないためにはどうすればよいか？\n### 0又は負の整数が入力される場合を考慮しなくてよいので、例外処理は不要である\n### 入力された整数が最初に表示され、最後に表示されるのは、数値1である。"
    },
    {
      "metadata": {
        "trusted": true
      },
      "cell_type": "code",
      "source": "i = 5\nprint(\"Hello!\")\nprint(\"Hello!\", end=\"\")\nprint(\"Hello!\")\nprint('Hello!', i, 'Hello!')\nprint('Hwllo!', i, 'Hello!', sep = '')",
      "execution_count": 33,
      "outputs": [
        {
          "output_type": "stream",
          "text": "Hello!\nHello!Hello!\nHello! 5 Hello!\nHwllo!5Hello!\n",
          "name": "stdout"
        }
      ]
    },
    {
      "metadata": {
        "trusted": true
      },
      "cell_type": "code",
      "source": "i = int(input())\nprint(i, end = '')\nwhile (i != 1):\n    if (i%2 == 0) :\n        i /= 2\n    else:\n        i = 3*i + 1\n    print('->', i, sep='', end = '')\n",
      "execution_count": 34,
      "outputs": [
        {
          "output_type": "stream",
          "name": "stdout",
          "text": "4\n4->2.0->1.0"
        }
      ]
    },
    {
      "metadata": {},
      "cell_type": "markdown",
      "source": "### 整数が小数点付きで表示されてしまった！"
    },
    {
      "metadata": {
        "trusted": true
      },
      "cell_type": "code",
      "source": "int(4.1)",
      "execution_count": 35,
      "outputs": [
        {
          "output_type": "execute_result",
          "execution_count": 35,
          "data": {
            "text/plain": "4"
          },
          "metadata": {}
        }
      ]
    },
    {
      "metadata": {
        "trusted": true
      },
      "cell_type": "code",
      "source": "int(4.9)",
      "execution_count": 36,
      "outputs": [
        {
          "output_type": "execute_result",
          "execution_count": 36,
          "data": {
            "text/plain": "4"
          },
          "metadata": {}
        }
      ]
    },
    {
      "metadata": {
        "trusted": true
      },
      "cell_type": "code",
      "source": "round(4.1)",
      "execution_count": 37,
      "outputs": [
        {
          "output_type": "execute_result",
          "execution_count": 37,
          "data": {
            "text/plain": "4"
          },
          "metadata": {}
        }
      ]
    },
    {
      "metadata": {
        "trusted": true
      },
      "cell_type": "code",
      "source": "round(4.9)",
      "execution_count": 38,
      "outputs": [
        {
          "output_type": "execute_result",
          "execution_count": 38,
          "data": {
            "text/plain": "5"
          },
          "metadata": {}
        }
      ]
    },
    {
      "metadata": {
        "trusted": true
      },
      "cell_type": "code",
      "source": "i = int(input())\nprint(i, end = '')\nwhile (i != 1):\n    if (i%2 == 0) :\n        i /= 2\n    else:\n        i = 3*i + 1\n    print('->', int(i), sep='', end = '')\n",
      "execution_count": 39,
      "outputs": [
        {
          "output_type": "stream",
          "name": "stdout",
          "text": "8\n8->4->2->1"
        }
      ]
    },
    {
      "metadata": {
        "trusted": true
      },
      "cell_type": "code",
      "source": "i = int(input())\nprint(i, end = '')\nwhile (i != 1):\n    if (i%2 == 0) :\n        i /= 2\n    else:\n        i = 3*i + 1\n    print('->', round(i), sep='', end = '')\n",
      "execution_count": 40,
      "outputs": [
        {
          "output_type": "stream",
          "name": "stdout",
          "text": "89\n89->268->134->67->202->101->304->152->76->38->19->58->29->88->44->22->11->34->17->52->26->13->40->20->10->5->16->8->4->2->1"
        }
      ]
    },
    {
      "metadata": {
        "trusted": true
      },
      "cell_type": "code",
      "source": "",
      "execution_count": null,
      "outputs": []
    }
  ],
  "metadata": {
    "kernelspec": {
      "name": "python36",
      "display_name": "Python 3.6",
      "language": "python"
    },
    "language_info": {
      "mimetype": "text/x-python",
      "nbconvert_exporter": "python",
      "name": "python",
      "pygments_lexer": "ipython3",
      "version": "3.6.6",
      "file_extension": ".py",
      "codemirror_mode": {
        "version": 3,
        "name": "ipython"
      }
    }
  },
  "nbformat": 4,
  "nbformat_minor": 2
}