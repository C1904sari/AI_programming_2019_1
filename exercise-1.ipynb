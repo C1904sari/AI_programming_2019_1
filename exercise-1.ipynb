{
  "cells": [
    {
      "metadata": {
        "collapsed": true
      },
      "cell_type": "markdown",
      "source": "# 練習問題１"
    },
    {
      "metadata": {},
      "cell_type": "markdown",
      "source": "## 問題１\n\n12 + 22 - (3 * 7) / 2"
    },
    {
      "metadata": {},
      "cell_type": "markdown",
      "source": "## 問題２\n\nsent = [\"Wars\",\"not\",\"make\",\"one\",\"great\"]を文字列に変換して出力する。単語と単語の間にはスペースを１個ずつ入れること。"
    },
    {
      "metadata": {},
      "cell_type": "markdown",
      "source": "## 問題３\n\n問題2で文字列に変換したものをリストに変換する。"
    },
    {
      "metadata": {},
      "cell_type": "markdown",
      "source": "## 問題４\n\na = \"Use the force.\"とb=\"Feel it.\"を結合して\"Use the force. Feel it.\"にする。"
    },
    {
      "metadata": {},
      "cell_type": "markdown",
      "source": "## 問題５\n\n\"You don't know the power of the darkside.\"の語数を出力する。"
    },
    {
      "metadata": {},
      "cell_type": "markdown",
      "source": "## 問題６\n\n\"John,Mary,Bob,Randy,Tony\"をアルファベット順に並び替えて出力しなさい。"
    },
    {
      "metadata": {},
      "cell_type": "markdown",
      "source": "## 問題７\n\n以下のデータの平均値（データの総和を個数で割る）を求めましょう。\n\nL = [12,25,32,65,44,89,35]"
    },
    {
      "metadata": {},
      "cell_type": "markdown",
      "source": "## 問題８\n\n以下のリストの\"C\"を出力しなさい。\n\nM = [[\"A\",\"B\",[\"C\",\"D\"],\"E\"],\"F\",[\"G\",\"H\"],\"I\"]\n\n"
    },
    {
      "metadata": {},
      "cell_type": "markdown",
      "source": "## 問題９\n\n以下のリストのHを出力しなさい。\n\nM = [[\"A\",\"B\",[\"C\",\"D\"],\"E\"],\"F\",[\"G\",\"H\"],\"I\"]\n\n"
    },
    {
      "metadata": {},
      "cell_type": "markdown",
      "source": "## 問題１０\n\n以下のリストからA,B,C,Dを出力しなさい。\n\nM = [[\"A\",\"B\",[\"C\",\"D\"],\"E\"],\"F\",[\"G\",\"H\"],\"I\"]\n\n"
    },
    {
      "metadata": {
        "trusted": true
      },
      "cell_type": "code",
      "source": "",
      "execution_count": null,
      "outputs": []
    }
  ],
  "metadata": {
    "kernelspec": {
      "name": "python36",
      "display_name": "Python 3.6",
      "language": "python"
    },
    "language_info": {
      "mimetype": "text/x-python",
      "nbconvert_exporter": "python",
      "name": "python",
      "pygments_lexer": "ipython3",
      "version": "3.6.6",
      "file_extension": ".py",
      "codemirror_mode": {
        "version": 3,
        "name": "ipython"
      }
    }
  },
  "nbformat": 4,
  "nbformat_minor": 2
}