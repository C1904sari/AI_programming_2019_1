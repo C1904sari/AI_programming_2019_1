{
  "cells": [
    {
      "metadata": {
        "collapsed": true
      },
      "cell_type": "markdown",
      "source": "## 比較演算子\n"
    },
    {
      "metadata": {
        "trusted": true
      },
      "cell_type": "code",
      "source": "x = 3\ny = 12\nz = 1",
      "execution_count": 1,
      "outputs": []
    },
    {
      "metadata": {
        "trusted": true
      },
      "cell_type": "code",
      "source": "x >= y",
      "execution_count": 2,
      "outputs": [
        {
          "output_type": "execute_result",
          "execution_count": 2,
          "data": {
            "text/plain": "False"
          },
          "metadata": {}
        }
      ]
    },
    {
      "metadata": {
        "trusted": true
      },
      "cell_type": "code",
      "source": "x == y",
      "execution_count": 3,
      "outputs": [
        {
          "output_type": "execute_result",
          "execution_count": 3,
          "data": {
            "text/plain": "False"
          },
          "metadata": {}
        }
      ]
    },
    {
      "metadata": {
        "trusted": true
      },
      "cell_type": "code",
      "source": "x != y",
      "execution_count": 4,
      "outputs": [
        {
          "output_type": "execute_result",
          "execution_count": 4,
          "data": {
            "text/plain": "True"
          },
          "metadata": {}
        }
      ]
    },
    {
      "metadata": {
        "trusted": true
      },
      "cell_type": "code",
      "source": "x > y",
      "execution_count": 5,
      "outputs": [
        {
          "output_type": "execute_result",
          "execution_count": 5,
          "data": {
            "text/plain": "False"
          },
          "metadata": {}
        }
      ]
    },
    {
      "metadata": {
        "trusted": true
      },
      "cell_type": "code",
      "source": "x >= y",
      "execution_count": 6,
      "outputs": [
        {
          "output_type": "execute_result",
          "execution_count": 6,
          "data": {
            "text/plain": "False"
          },
          "metadata": {}
        }
      ]
    },
    {
      "metadata": {
        "trusted": true
      },
      "cell_type": "code",
      "source": "x < y",
      "execution_count": 7,
      "outputs": [
        {
          "output_type": "execute_result",
          "execution_count": 7,
          "data": {
            "text/plain": "True"
          },
          "metadata": {}
        }
      ]
    },
    {
      "metadata": {
        "trusted": true
      },
      "cell_type": "code",
      "source": "x <= y",
      "execution_count": 8,
      "outputs": [
        {
          "output_type": "execute_result",
          "execution_count": 8,
          "data": {
            "text/plain": "True"
          },
          "metadata": {}
        }
      ]
    },
    {
      "metadata": {},
      "cell_type": "markdown",
      "source": "## 論理演算子"
    },
    {
      "metadata": {
        "trusted": true
      },
      "cell_type": "code",
      "source": "x = True\ny = False",
      "execution_count": 12,
      "outputs": []
    },
    {
      "metadata": {
        "trusted": true
      },
      "cell_type": "code",
      "source": "x and y",
      "execution_count": 13,
      "outputs": [
        {
          "output_type": "execute_result",
          "execution_count": 13,
          "data": {
            "text/plain": "False"
          },
          "metadata": {}
        }
      ]
    },
    {
      "metadata": {
        "trusted": true
      },
      "cell_type": "code",
      "source": "x or y",
      "execution_count": 14,
      "outputs": [
        {
          "output_type": "execute_result",
          "execution_count": 14,
          "data": {
            "text/plain": "True"
          },
          "metadata": {}
        }
      ]
    },
    {
      "metadata": {
        "trusted": true
      },
      "cell_type": "code",
      "source": "not x",
      "execution_count": 15,
      "outputs": [
        {
          "output_type": "execute_result",
          "execution_count": 15,
          "data": {
            "text/plain": "False"
          },
          "metadata": {}
        }
      ]
    },
    {
      "metadata": {
        "trusted": true
      },
      "cell_type": "code",
      "source": "x = 3\ny = 12\nz = 1",
      "execution_count": 1,
      "outputs": []
    },
    {
      "metadata": {
        "trusted": true
      },
      "cell_type": "code",
      "source": "x < y and z < y",
      "execution_count": 2,
      "outputs": [
        {
          "output_type": "execute_result",
          "execution_count": 2,
          "data": {
            "text/plain": "True"
          },
          "metadata": {}
        }
      ]
    },
    {
      "metadata": {
        "trusted": true
      },
      "cell_type": "markdown",
      "source": "## 制御構文"
    },
    {
      "metadata": {},
      "cell_type": "markdown",
      "source": "### if文"
    },
    {
      "metadata": {
        "trusted": true
      },
      "cell_type": "code",
      "source": "x = 1\ny = 2",
      "execution_count": 3,
      "outputs": []
    },
    {
      "metadata": {
        "trusted": true
      },
      "cell_type": "code",
      "source": "if x < y:\n    print(\"x < y\")",
      "execution_count": 5,
      "outputs": [
        {
          "output_type": "stream",
          "text": "x < y\n",
          "name": "stdout"
        }
      ]
    },
    {
      "metadata": {
        "trusted": true
      },
      "cell_type": "code",
      "source": "x = 2\ny = 1\nif x < y:\n    print(\"x < y\")\nelse:\n    print(\"x >= y\")\n",
      "execution_count": 8,
      "outputs": [
        {
          "output_type": "stream",
          "text": "x >= y\n",
          "name": "stdout"
        }
      ]
    },
    {
      "metadata": {
        "trusted": true
      },
      "cell_type": "code",
      "source": "if x < y:\n    print(\"x < y\")\nelif x > y:\n    print(\"x > y\")\nelif x == y:\n    print(\"x == y\")",
      "execution_count": 9,
      "outputs": [
        {
          "output_type": "stream",
          "text": "x > y\n",
          "name": "stdout"
        }
      ]
    },
    {
      "metadata": {},
      "cell_type": "markdown",
      "source": "### for文"
    },
    {
      "metadata": {
        "trusted": true
      },
      "cell_type": "code",
      "source": "List = [1, 2, 3]",
      "execution_count": 15,
      "outputs": []
    },
    {
      "metadata": {
        "trusted": true
      },
      "cell_type": "code",
      "source": "for i in List:\n    print(i)",
      "execution_count": 13,
      "outputs": [
        {
          "output_type": "stream",
          "text": "1\n2\n3\n",
          "name": "stdout"
        }
      ]
    },
    {
      "metadata": {
        "trusted": true
      },
      "cell_type": "code",
      "source": "for x in List:\n    print(x)",
      "execution_count": 14,
      "outputs": [
        {
          "output_type": "stream",
          "text": "1\n2\n3\n",
          "name": "stdout"
        }
      ]
    },
    {
      "metadata": {
        "trusted": true
      },
      "cell_type": "code",
      "source": "for i in range(1, 10, 2):\n    print(i)\n",
      "execution_count": 20,
      "outputs": [
        {
          "output_type": "stream",
          "text": "1\n3\n5\n7\n9\n",
          "name": "stdout"
        }
      ]
    },
    {
      "metadata": {},
      "cell_type": "markdown",
      "source": "### while文"
    },
    {
      "metadata": {
        "trusted": true
      },
      "cell_type": "code",
      "source": "n = 0\n\nwhile n < 10:\n    print(n)\n    n += 1",
      "execution_count": 16,
      "outputs": [
        {
          "output_type": "stream",
          "text": "0\n1\n2\n3\n4\n5\n6\n7\n8\n9\n",
          "name": "stdout"
        }
      ]
    },
    {
      "metadata": {},
      "cell_type": "markdown",
      "source": "### for文とif文の組み合わせ"
    },
    {
      "metadata": {
        "trusted": true
      },
      "cell_type": "code",
      "source": "List = [\"pen\", \"book\", \"apple\"]",
      "execution_count": 21,
      "outputs": []
    },
    {
      "metadata": {
        "trusted": true
      },
      "cell_type": "code",
      "source": "for i in List:\n    print(i[0])\n    if i[0] == \"a\" or i[0] == \"i\" or i[0] == \"u\" or i[0] == \"e\" or i[0] == \"o\":\n        x = \"an \" + i\n    else:\n        x = \"a \" + i\n    print(x)",
      "execution_count": 27,
      "outputs": [
        {
          "output_type": "stream",
          "text": "p\na pen\nb\na book\na\nan apple\n",
          "name": "stdout"
        }
      ]
    },
    {
      "metadata": {},
      "cell_type": "markdown",
      "source": "### range関数"
    },
    {
      "metadata": {
        "trusted": true
      },
      "cell_type": "code",
      "source": "n = 0\n\nwhile n < 5:\n    print(n)\n    n += 1",
      "execution_count": 28,
      "outputs": [
        {
          "output_type": "stream",
          "text": "0\n1\n2\n3\n4\n",
          "name": "stdout"
        }
      ]
    },
    {
      "metadata": {
        "trusted": true
      },
      "cell_type": "code",
      "source": "for i in range(5):\n    print(i)",
      "execution_count": 29,
      "outputs": [
        {
          "output_type": "stream",
          "text": "0\n1\n2\n3\n4\n",
          "name": "stdout"
        }
      ]
    },
    {
      "metadata": {
        "trusted": true
      },
      "cell_type": "code",
      "source": "# i は、0から４まで、増分１\nfor i in range(0, 5, 1):\n    print(i)",
      "execution_count": 31,
      "outputs": [
        {
          "output_type": "stream",
          "text": "0\n1\n2\n3\n4\n",
          "name": "stdout"
        }
      ]
    },
    {
      "metadata": {},
      "cell_type": "markdown",
      "source": "#### range関数があるのでwhile文はあまり使われなくなっている"
    },
    {
      "metadata": {},
      "cell_type": "markdown",
      "source": "### 例外処理\n#### 未然にエラーを防ぐ！"
    },
    {
      "metadata": {
        "trusted": true
      },
      "cell_type": "code",
      "source": "print \"Hello\"",
      "execution_count": 32,
      "outputs": [
        {
          "output_type": "error",
          "ename": "SyntaxError",
          "evalue": "Missing parentheses in call to 'print'. Did you mean print(\"Hello\")? (<ipython-input-32-dabf489e9f92>, line 1)",
          "traceback": [
            "\u001b[0;36m  File \u001b[0;32m\"<ipython-input-32-dabf489e9f92>\"\u001b[0;36m, line \u001b[0;32m1\u001b[0m\n\u001b[0;31m    print \"Hello\"\u001b[0m\n\u001b[0m                ^\u001b[0m\n\u001b[0;31mSyntaxError\u001b[0m\u001b[0;31m:\u001b[0m Missing parentheses in call to 'print'. Did you mean print(\"Hello\")?\n"
          ]
        }
      ]
    },
    {
      "metadata": {},
      "cell_type": "markdown",
      "source": "#### print文は、Python３系から関数になったので()がなければエラーになる"
    },
    {
      "metadata": {
        "trusted": true
      },
      "cell_type": "code",
      "source": "L = [5, \"x\", 3, 2]",
      "execution_count": 33,
      "outputs": []
    },
    {
      "metadata": {
        "trusted": true
      },
      "cell_type": "code",
      "source": "for in L:\n    print(i/10)",
      "execution_count": 34,
      "outputs": [
        {
          "output_type": "error",
          "ename": "SyntaxError",
          "evalue": "invalid syntax (<ipython-input-34-fa6fcd7fb74b>, line 1)",
          "traceback": [
            "\u001b[0;36m  File \u001b[0;32m\"<ipython-input-34-fa6fcd7fb74b>\"\u001b[0;36m, line \u001b[0;32m1\u001b[0m\n\u001b[0;31m    for in L:\u001b[0m\n\u001b[0m         ^\u001b[0m\n\u001b[0;31mSyntaxError\u001b[0m\u001b[0;31m:\u001b[0m invalid syntax\n"
          ]
        }
      ]
    },
    {
      "metadata": {},
      "cell_type": "markdown",
      "source": "#### 文字列\"x\"は、１０で割り算できないのでエラーになる。"
    },
    {
      "metadata": {},
      "cell_type": "markdown",
      "source": "#### エラーが発生しても、エラー処理して、プロセスを続行してほしい！"
    },
    {
      "metadata": {
        "trusted": true
      },
      "cell_type": "code",
      "source": "for i in L:\n    try:\n        print(i/10)\n    except:\n        print(\"Error!\")",
      "execution_count": 35,
      "outputs": [
        {
          "output_type": "stream",
          "text": "0.5\nError!\n0.3\n0.2\n",
          "name": "stdout"
        }
      ]
    },
    {
      "metadata": {},
      "cell_type": "markdown",
      "source": "## 練習問題\n"
    },
    {
      "metadata": {},
      "cell_type": "markdown",
      "source": "問題１\n\nfor文を使って以下の単語を複数形にしなさい。\n\n[\"boy\",\"girl\", \"pen\",\"book\",\"dish\",\"watch\",\"box\",\"fox\"]\n\n"
    },
    {
      "metadata": {
        "trusted": true
      },
      "cell_type": "code",
      "source": "List = [\"boy\",\"girl\", \"pen\",\"book\",\"dish\",\"watch\",\"box\",\"fox\"]",
      "execution_count": 36,
      "outputs": []
    },
    {
      "metadata": {
        "trusted": true
      },
      "cell_type": "code",
      "source": "for i in List:\n    if i[-1] == \"x\" or i[-1] == \"h\":\n        x = i + \"es\"\n    else:\n        x = i + \"s\"\n    print(x)",
      "execution_count": 39,
      "outputs": [
        {
          "output_type": "stream",
          "text": "boys\ngirls\npens\nbooks\ndishes\nwatches\nboxes\nfoxes\n",
          "name": "stdout"
        }
      ]
    },
    {
      "metadata": {},
      "cell_type": "markdown",
      "source": "問題２\n\nfizzbuzz問題。ルールは以下の通り。\n\n1から100までの数字で\n\n3で割り切れる時には\"Fizz!\"と表示\n\n5で割り切れる時には\"Buzz!\"と表示\n\n３でも5でも割り切れる時には\"Fizz! Buzz!\"と表示\n\nそれ以外の数字はそのまま表示\n\nfor文を使って出力しなさい。"
    },
    {
      "metadata": {
        "trusted": true
      },
      "cell_type": "code",
      "source": "for i in range(1, 101):\n    if i % 15 == 0:\n        print(\"Fizz! Buzz!\")\n    elif i % 3 == 0:\n        print(\"Fizz!\")\n    elif i % 5 == 0:\n        print(\"Buzz!\")\n    else:\n        print(i)",
      "execution_count": 41,
      "outputs": [
        {
          "output_type": "stream",
          "text": "1\n2\nFizz!\n4\nBuzz!\nFizz!\n7\n8\nFizz!\nBuzz!\n11\nFizz!\n13\n14\nFizz! Buzz!\n16\n17\nFizz!\n19\nBuzz!\nFizz!\n22\n23\nFizz!\nBuzz!\n26\nFizz!\n28\n29\nFizz! Buzz!\n31\n32\nFizz!\n34\nBuzz!\nFizz!\n37\n38\nFizz!\nBuzz!\n41\nFizz!\n43\n44\nFizz! Buzz!\n46\n47\nFizz!\n49\nBuzz!\nFizz!\n52\n53\nFizz!\nBuzz!\n56\nFizz!\n58\n59\nFizz! Buzz!\n61\n62\nFizz!\n64\nBuzz!\nFizz!\n67\n68\nFizz!\nBuzz!\n71\nFizz!\n73\n74\nFizz! Buzz!\n76\n77\nFizz!\n79\nBuzz!\nFizz!\n82\n83\nFizz!\nBuzz!\n86\nFizz!\n88\n89\nFizz! Buzz!\n91\n92\nFizz!\n94\nBuzz!\nFizz!\n97\n98\nFizz!\nBuzz!\n",
          "name": "stdout"
        }
      ]
    },
    {
      "metadata": {
        "trusted": true
      },
      "cell_type": "markdown",
      "source": "問題３\n\n任意の整数に関して、その値が偶数の場合は2で割り、奇数の場合は3をかけて1を足すという操作を繰り返すと必ず1になる（コラッツの問題）。\n\n例1\n\n13 -> 40 -> 20 -> 10 -> 5 -> 16 -> 8 -> 4 -> 2 -> 1\n\n\n\n例2\n\n22 -> 11 -> 34 -> 17 -> 52 -> 26 -> 13 -> 40 -> 20 -> 10 -> 5 -> 16 -> 8 -> 4 -> 2 -> 1\n\n\n\nwhileとifを用いて任意の整数を入力して、この過程を出力してみましょう。\n\n"
    },
    {
      "metadata": {
        "trusted": true
      },
      "cell_type": "code",
      "source": "i = int(input(\"任意の整数を入力 = \"))\n\nwhile i != 1:\n    print(i, end=\"\")\n    print(\"->\", end=\"\")\n  \n    if i % 2 == 0:\n        i //=2\n    else:\n        i = 3*i + 1\n\nprint(i, end=\"\")\n",
      "execution_count": 13,
      "outputs": [
        {
          "output_type": "stream",
          "name": "stdout",
          "text": "任意の整数を入力 = 105\n105->316->158->79->238->119->358->179->538->269->808->404->202->101->304->152->76->38->19->58->29->88->44->22->11->34->17->52->26->13->40->20->10->5->16->8->4->2->1"
        }
      ]
    },
    {
      "metadata": {},
      "cell_type": "markdown",
      "source": "問題4\n\n以下のリスト(L)の各要素を10で割ってリストMに保存しなさい。要素が数値ではない場合、リストMには\"X\"を追加しなさい。\n\nL = [12,100,90,88,45,\"32\",\"25\",12,\"33\",90,100]\n\n"
    },
    {
      "metadata": {
        "trusted": true
      },
      "cell_type": "code",
      "source": "L = [12,100,90,88,45,\"32\",\"25\",12,\"33\",90,100]\nM = []\n\nfor i in L:\n    try:\n        M.append(i/10)\n    except:\n        M.append(\"X\")\n\nM",
      "execution_count": 12,
      "outputs": [
        {
          "output_type": "execute_result",
          "execution_count": 12,
          "data": {
            "text/plain": "[1.2, 10.0, 9.0, 8.8, 4.5, 'X', 'X', 1.2, 'X', 9.0, 10.0]"
          },
          "metadata": {}
        }
      ]
    },
    {
      "metadata": {
        "trusted": true
      },
      "cell_type": "code",
      "source": "",
      "execution_count": null,
      "outputs": []
    }
  ],
  "metadata": {
    "kernelspec": {
      "name": "python36",
      "display_name": "Python 3.6",
      "language": "python"
    },
    "language_info": {
      "mimetype": "text/x-python",
      "nbconvert_exporter": "python",
      "name": "python",
      "pygments_lexer": "ipython3",
      "version": "3.6.6",
      "file_extension": ".py",
      "codemirror_mode": {
        "version": 3,
        "name": "ipython"
      }
    }
  },
  "nbformat": 4,
  "nbformat_minor": 2
}